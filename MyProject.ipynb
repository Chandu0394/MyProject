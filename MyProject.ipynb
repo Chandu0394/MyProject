{
 "cells": [
  {
   "cell_type": "code",
   "execution_count": 9,
   "id": "58d9ad69-febd-466e-8b27-324a8fc2081d",
   "metadata": {},
   "outputs": [],
   "source": [
    "import pandas as pd\n",
    "import mysql.connector\n",
    "\n",
    "def create_database():\n",
    "    # Connect to the default database\n",
    "    conn = mysql.connector.connect(\n",
    "        host=\"127.0.0.1\",\n",
    "        user=\"root\",\n",
    "        password=\"1234\"\n",
    "    )\n",
    "    conn.autocommit = True\n",
    "    curr = conn.cursor()\n",
    "\n",
    "    # Drop and create the projectp0 database\n",
    "    curr.execute(\"DROP DATABASE IF EXISTS projectp0\")\n",
    "    curr.execute(\"CREATE DATABASE projectp0\")\n",
    "\n",
    "    # Close connection to the default database\n",
    "    curr.close()\n",
    "    conn.close()\n",
    "\n",
    "    # Connect to the projectp0 database\n",
    "    conn = mysql.connector.connect(\n",
    "        host=\"127.0.0.1\",\n",
    "        user=\"root\",\n",
    "        password=\"1234\",\n",
    "        database=\"projectp0\"\n",
    "    )\n",
    "    curr = conn.cursor()\n",
    "\n",
    "    return curr, conn\n"
   ]
  },
  {
   "cell_type": "code",
   "execution_count": 11,
   "id": "68c2786b-d22f-4fd8-bbbe-25ec6c8e1379",
   "metadata": {},
   "outputs": [],
   "source": [
    "curr, conn = create_database()\n"
   ]
  },
  {
   "cell_type": "code",
   "execution_count": 12,
   "id": "a123c54f-7e4e-405e-ad3f-172a9d88c3f7",
   "metadata": {},
   "outputs": [
    {
     "name": "stdout",
     "output_type": "stream",
     "text": [
      "Database 'projectp0' exists.\n"
     ]
    }
   ],
   "source": [
    "check_database_exists(\"projectp0\")\n"
   ]
  },
  {
   "cell_type": "code",
   "execution_count": 13,
   "id": "3c400912-8684-403b-a3f4-e720dc9b9ba6",
   "metadata": {},
   "outputs": [],
   "source": [
    "def drop_tables(curr, conn):\n",
    "    try:\n",
    "        for query in drop_table_queries:\n",
    "            curr.execute(query)\n",
    "            conn.commit()\n",
    "    except Exception as e:\n",
    "        print(f\"Error dropping tables: {e}\")\n",
    "\n",
    "def create_tables(curr, conn):\n",
    "    try:\n",
    "        for query in create_table_queries:\n",
    "            curr.execute(query)\n",
    "            conn.commit()\n",
    "    except Exception as e:\n",
    "        print(f\"Error creating tables: {e}\")\n"
   ]
  },
  {
   "cell_type": "code",
   "execution_count": 14,
   "id": "1e7b935c-6d39-46ea-a418-bbd55e759e4b",
   "metadata": {},
   "outputs": [],
   "source": [
    "# Load data\n",
    "customer_data = pd.read_json(\"customers.json\")\n",
    "transaction_data = pd.read_json(\"transaction_logs.json\")\n"
   ]
  },
  {
   "cell_type": "code",
   "execution_count": 15,
   "id": "c81a46fc-f256-4779-a69e-95e7c57c7139",
   "metadata": {},
   "outputs": [],
   "source": [
    "# Create database and tables\n",
    "curr, conn = create_database()\n",
    "\n",
    "customer_table_create = \"\"\"\n",
    "CREATE TABLE IF NOT EXISTS Customer (\n",
    "    customer_id INT PRIMARY KEY,\n",
    "    customer_name VARCHAR(255),\n",
    "    country VARCHAR(100),\n",
    "    city VARCHAR(100)\n",
    ");\n",
    "\"\"\"\n",
    "curr.execute(customer_table_create)\n",
    "conn.commit()\n",
    "\n",
    "# Modify Product table to include ecommerce_website_name\n",
    "product_table_create = \"\"\"\n",
    "CREATE TABLE IF NOT EXISTS Product (\n",
    "    product_id INT PRIMARY KEY,\n",
    "    product_name VARCHAR(255),\n",
    "    product_category VARCHAR(100),\n",
    "    price DECIMAL(10, 2),\n",
    "    ecommerce_website_name VARCHAR(255)\n",
    ");\n",
    "\"\"\"\n",
    "curr.execute(product_table_create)\n",
    "conn.commit()\n",
    "\n",
    "order_table_create = \"\"\"\n",
    "CREATE TABLE IF NOT EXISTS Orders (\n",
    "    order_id INT PRIMARY KEY,\n",
    "    customer_id INT,\n",
    "    product_id INT,\n",
    "    qty INT,\n",
    "    datetime TEXT,\n",
    "    FOREIGN KEY (customer_id) REFERENCES Customer(customer_id),\n",
    "    FOREIGN KEY (product_id) REFERENCES Product(product_id)\n",
    ");\n",
    "\"\"\"\n",
    "curr.execute(order_table_create)\n",
    "conn.commit()\n",
    "\n",
    "payment_table_create = \"\"\"\n",
    "CREATE TABLE IF NOT EXISTS Payment (\n",
    "    payment_txn_id VARCHAR(255) PRIMARY KEY,\n",
    "    order_id INT,\n",
    "    payment_type VARCHAR(50),\n",
    "    payment_txn_success CHAR(1),\n",
    "    failure_reason VARCHAR(255),\n",
    "    FOREIGN KEY (order_id) REFERENCES Orders(order_id)\n",
    ");\n",
    "\"\"\"\n",
    "curr.execute(payment_table_create)\n",
    "conn.commit()\n"
   ]
  },
  {
   "cell_type": "code",
   "execution_count": 16,
   "id": "19da4d08-f18a-4169-89b0-3044692b4d7a",
   "metadata": {},
   "outputs": [
    {
     "data": {
      "text/html": [
       "<div>\n",
       "<style scoped>\n",
       "    .dataframe tbody tr th:only-of-type {\n",
       "        vertical-align: middle;\n",
       "    }\n",
       "\n",
       "    .dataframe tbody tr th {\n",
       "        vertical-align: top;\n",
       "    }\n",
       "\n",
       "    .dataframe thead th {\n",
       "        text-align: right;\n",
       "    }\n",
       "</style>\n",
       "<table border=\"1\" class=\"dataframe\">\n",
       "  <thead>\n",
       "    <tr style=\"text-align: right;\">\n",
       "      <th></th>\n",
       "      <th>customer_id</th>\n",
       "      <th>customer_name</th>\n",
       "      <th>country</th>\n",
       "      <th>city</th>\n",
       "    </tr>\n",
       "  </thead>\n",
       "  <tbody>\n",
       "    <tr>\n",
       "      <th>0</th>\n",
       "      <td>9780</td>\n",
       "      <td>Jessica Hart</td>\n",
       "      <td>Martinique</td>\n",
       "      <td>South William</td>\n",
       "    </tr>\n",
       "    <tr>\n",
       "      <th>1</th>\n",
       "      <td>9169</td>\n",
       "      <td>Amy Clark</td>\n",
       "      <td>Kazakhstan</td>\n",
       "      <td>Davisville</td>\n",
       "    </tr>\n",
       "    <tr>\n",
       "      <th>2</th>\n",
       "      <td>6631</td>\n",
       "      <td>Danielle Elliott</td>\n",
       "      <td>Armenia</td>\n",
       "      <td>East Danny</td>\n",
       "    </tr>\n",
       "    <tr>\n",
       "      <th>3</th>\n",
       "      <td>8772</td>\n",
       "      <td>Robin Mendoza</td>\n",
       "      <td>Uganda</td>\n",
       "      <td>Johnsonbury</td>\n",
       "    </tr>\n",
       "    <tr>\n",
       "      <th>4</th>\n",
       "      <td>8913</td>\n",
       "      <td>Abigail Miller</td>\n",
       "      <td>Namibia</td>\n",
       "      <td>Wrightchester</td>\n",
       "    </tr>\n",
       "  </tbody>\n",
       "</table>\n",
       "</div>"
      ],
      "text/plain": [
       "   customer_id     customer_name     country           city\n",
       "0         9780      Jessica Hart  Martinique  South William\n",
       "1         9169         Amy Clark  Kazakhstan     Davisville\n",
       "2         6631  Danielle Elliott     Armenia     East Danny\n",
       "3         8772     Robin Mendoza      Uganda    Johnsonbury\n",
       "4         8913    Abigail Miller     Namibia  Wrightchester"
      ]
     },
     "execution_count": 16,
     "metadata": {},
     "output_type": "execute_result"
    }
   ],
   "source": [
    "customer_data.head()"
   ]
  },
  {
   "cell_type": "code",
   "execution_count": 18,
   "id": "daad6574-219d-4647-b084-e3aeec1edf95",
   "metadata": {},
   "outputs": [
    {
     "data": {
      "text/html": [
       "<div>\n",
       "<style scoped>\n",
       "    .dataframe tbody tr th:only-of-type {\n",
       "        vertical-align: middle;\n",
       "    }\n",
       "\n",
       "    .dataframe tbody tr th {\n",
       "        vertical-align: top;\n",
       "    }\n",
       "\n",
       "    .dataframe thead th {\n",
       "        text-align: right;\n",
       "    }\n",
       "</style>\n",
       "<table border=\"1\" class=\"dataframe\">\n",
       "  <thead>\n",
       "    <tr style=\"text-align: right;\">\n",
       "      <th></th>\n",
       "      <th>order_id</th>\n",
       "      <th>customer_id</th>\n",
       "      <th>product_id</th>\n",
       "      <th>product_name</th>\n",
       "      <th>product_category</th>\n",
       "      <th>payment_type</th>\n",
       "      <th>qty</th>\n",
       "      <th>price</th>\n",
       "      <th>datetime</th>\n",
       "      <th>ecommerce_website_name</th>\n",
       "      <th>payment_txn_id</th>\n",
       "      <th>payment_txn_success</th>\n",
       "      <th>failure_reason</th>\n",
       "    </tr>\n",
       "  </thead>\n",
       "  <tbody>\n",
       "    <tr>\n",
       "      <th>0</th>\n",
       "      <td>1</td>\n",
       "      <td>1731</td>\n",
       "      <td>8609</td>\n",
       "      <td>Central home &amp; kitche</td>\n",
       "      <td>Home &amp; Kitchen</td>\n",
       "      <td>Wallet</td>\n",
       "      <td>25</td>\n",
       "      <td>64216</td>\n",
       "      <td>2021-07-26 20:16:14</td>\n",
       "      <td>www.bestbuy.com</td>\n",
       "      <td>a395e8c7</td>\n",
       "      <td>N</td>\n",
       "      <td>Card Expired</td>\n",
       "    </tr>\n",
       "    <tr>\n",
       "      <th>1</th>\n",
       "      <td>2</td>\n",
       "      <td>5539</td>\n",
       "      <td>2409</td>\n",
       "      <td>Upon sport</td>\n",
       "      <td>Sports</td>\n",
       "      <td>Card</td>\n",
       "      <td>34</td>\n",
       "      <td>69877</td>\n",
       "      <td>2021-08-25 03:41:32</td>\n",
       "      <td>www.flipkart.com</td>\n",
       "      <td>b40791f8</td>\n",
       "      <td>N</td>\n",
       "      <td>Invalid CVV</td>\n",
       "    </tr>\n",
       "    <tr>\n",
       "      <th>2</th>\n",
       "      <td>3</td>\n",
       "      <td>3507</td>\n",
       "      <td>1145</td>\n",
       "      <td>Across stationer</td>\n",
       "      <td>Stationery</td>\n",
       "      <td>Card</td>\n",
       "      <td>28</td>\n",
       "      <td>35491</td>\n",
       "      <td>2024-06-21 21:39:21</td>\n",
       "      <td>www.target.com</td>\n",
       "      <td>7fb6cca9</td>\n",
       "      <td>N</td>\n",
       "      <td>Blocked Card</td>\n",
       "    </tr>\n",
       "    <tr>\n",
       "      <th>3</th>\n",
       "      <td>4</td>\n",
       "      <td>4826</td>\n",
       "      <td>8375</td>\n",
       "      <td>Start home &amp; kitche</td>\n",
       "      <td>Home &amp; Kitchen</td>\n",
       "      <td>Card</td>\n",
       "      <td>33</td>\n",
       "      <td>39540</td>\n",
       "      <td>2022-09-17 13:52:11</td>\n",
       "      <td>www.amazon.in</td>\n",
       "      <td>cae677f3</td>\n",
       "      <td>N</td>\n",
       "      <td>Transaction Timeout</td>\n",
       "    </tr>\n",
       "    <tr>\n",
       "      <th>4</th>\n",
       "      <td>5</td>\n",
       "      <td>6538</td>\n",
       "      <td>2149</td>\n",
       "      <td>Draw beaut</td>\n",
       "      <td>Beauty</td>\n",
       "      <td>Card</td>\n",
       "      <td>27</td>\n",
       "      <td>80635</td>\n",
       "      <td>2022-03-09 07:58:08</td>\n",
       "      <td>www.etsy.com</td>\n",
       "      <td>fbce1649</td>\n",
       "      <td>N</td>\n",
       "      <td>Invalid CVV</td>\n",
       "    </tr>\n",
       "  </tbody>\n",
       "</table>\n",
       "</div>"
      ],
      "text/plain": [
       "   order_id  customer_id  product_id           product_name product_category  \\\n",
       "0         1         1731        8609  Central home & kitche   Home & Kitchen   \n",
       "1         2         5539        2409             Upon sport           Sports   \n",
       "2         3         3507        1145       Across stationer       Stationery   \n",
       "3         4         4826        8375    Start home & kitche   Home & Kitchen   \n",
       "4         5         6538        2149             Draw beaut           Beauty   \n",
       "\n",
       "  payment_type  qty  price            datetime ecommerce_website_name  \\\n",
       "0       Wallet   25  64216 2021-07-26 20:16:14        www.bestbuy.com   \n",
       "1         Card   34  69877 2021-08-25 03:41:32       www.flipkart.com   \n",
       "2         Card   28  35491 2024-06-21 21:39:21         www.target.com   \n",
       "3         Card   33  39540 2022-09-17 13:52:11          www.amazon.in   \n",
       "4         Card   27  80635 2022-03-09 07:58:08           www.etsy.com   \n",
       "\n",
       "  payment_txn_id payment_txn_success       failure_reason  \n",
       "0       a395e8c7                   N         Card Expired  \n",
       "1       b40791f8                   N          Invalid CVV  \n",
       "2       7fb6cca9                   N         Blocked Card  \n",
       "3       cae677f3                   N  Transaction Timeout  \n",
       "4       fbce1649                   N          Invalid CVV  "
      ]
     },
     "execution_count": 18,
     "metadata": {},
     "output_type": "execute_result"
    }
   ],
   "source": [
    "transaction_data.head()"
   ]
  },
  {
   "cell_type": "code",
   "execution_count": 19,
   "id": "fb40f368-06a4-4b6a-8208-47ce9cb5a385",
   "metadata": {},
   "outputs": [
    {
     "name": "stdout",
     "output_type": "stream",
     "text": [
      "Data inserted into Customer table successfully.\n"
     ]
    }
   ],
   "source": [
    "# Insert data into Customer table\n",
    "customer_insert_query = \"\"\"\n",
    "INSERT INTO Customer (customer_id, customer_name, country, city)\n",
    "VALUES (%s, %s, %s, %s);\n",
    "\"\"\"\n",
    "try:\n",
    "    for i, row in customer_data.iterrows():\n",
    "        curr.execute(customer_insert_query, list(row))\n",
    "    conn.commit()\n",
    "    print(\"Data inserted into Customer table successfully.\")\n",
    "except Exception as e:\n",
    "    print(f\"Error inserting into Customer table: {e}\")\n"
   ]
  },
  {
   "cell_type": "code",
   "execution_count": 20,
   "id": "bdb84dc8-9dd1-4aa1-9fe0-6dd6d62bf0be",
   "metadata": {},
   "outputs": [
    {
     "name": "stdout",
     "output_type": "stream",
     "text": [
      "Data inserted into Product table successfully.\n"
     ]
    }
   ],
   "source": [
    "# Insert data into Product table\n",
    "product_insert_query = \"\"\"\n",
    "INSERT INTO Product (product_id, product_name, product_category, price, ecommerce_website_name)\n",
    "VALUES (%s, %s, %s, %s, %s);\n",
    "\"\"\"\n",
    "try:\n",
    "    product_table = transaction_data[[\"product_id\", \"product_name\", \"product_category\", \"price\", \"ecommerce_website_name\"]].drop_duplicates(subset=['product_id'])\n",
    "    for i, row in product_table.iterrows():\n",
    "        curr.execute(product_insert_query, list(row))\n",
    "    conn.commit()\n",
    "    print(\"Data inserted into Product table successfully.\")\n",
    "except Exception as e:\n",
    "    print(f\"Error inserting into Product table: {e}\")\n"
   ]
  },
  {
   "cell_type": "code",
   "execution_count": 21,
   "id": "308f50c3-e33b-49cd-ab11-ccd8500cc28a",
   "metadata": {},
   "outputs": [
    {
     "name": "stdout",
     "output_type": "stream",
     "text": [
      "Data inserted into Orders table successfully.\n"
     ]
    }
   ],
   "source": [
    "# Insert data into Orders table\n",
    "order_insert_query = \"\"\"\n",
    "INSERT INTO Orders (order_id, customer_id, product_id, qty, datetime)\n",
    "VALUES (%s, %s, %s, %s, %s);\n",
    "\"\"\"\n",
    "try:\n",
    "    orders_table = transaction_data[[\"order_id\", \"customer_id\", \"product_id\", \"qty\", \"datetime\"]]\n",
    "    for i, row in orders_table.iterrows():\n",
    "        curr.execute(order_insert_query, list(row))\n",
    "    conn.commit()\n",
    "    print(\"Data inserted into Orders table successfully.\")\n",
    "except Exception as e:\n",
    "    print(f\"Error inserting into Orders table: {e}\")\n"
   ]
  },
  {
   "cell_type": "code",
   "execution_count": 22,
   "id": "afaf4c50-405d-4c3e-ab96-8eae6f6f5cae",
   "metadata": {},
   "outputs": [
    {
     "name": "stdout",
     "output_type": "stream",
     "text": [
      "Data inserted into Payment table successfully.\n"
     ]
    }
   ],
   "source": [
    "# Insert data into Payment table\n",
    "payment_insert_query = \"\"\"\n",
    "INSERT INTO Payment (payment_txn_id, order_id, payment_type, payment_txn_success, failure_reason)\n",
    "VALUES (%s, %s, %s, %s, %s);\n",
    "\"\"\"\n",
    "try:\n",
    "    payment_table = transaction_data[[\"payment_txn_id\", \"order_id\", \"payment_type\", \"payment_txn_success\", \"failure_reason\"]]\n",
    "    for i, row in payment_table.iterrows():\n",
    "        curr.execute(payment_insert_query, list(row))\n",
    "    conn.commit()\n",
    "    print(\"Data inserted into Payment table successfully.\")\n",
    "except Exception as e:\n",
    "    print(f\"Error inserting into Payment table: {e}\")\n"
   ]
  },
  {
   "cell_type": "code",
   "execution_count": 23,
   "id": "343bb679-60e5-4d82-a210-d0ecbeca3ecc",
   "metadata": {},
   "outputs": [
    {
     "name": "stdout",
     "output_type": "stream",
     "text": [
      "Database connection closed.\n"
     ]
    }
   ],
   "source": [
    "# Close connection\n",
    "curr.close()\n",
    "conn.close()\n",
    "print(\"Database connection closed.\")\n"
   ]
  },
  {
   "cell_type": "code",
   "execution_count": 24,
   "id": "2155c75f-03ce-46c6-ad46-10c8326df8f0",
   "metadata": {},
   "outputs": [
    {
     "name": "stdout",
     "output_type": "stream",
     "text": [
      "\n",
      "Sample data from Customer table:\n",
      "(102, 'Kenneth Singh', 'Sweden', 'Davidhaven')\n",
      "(106, 'Mr. James Mendez', 'British Indian Ocean Territory (Chagos Archipelago)', 'Paulmouth')\n",
      "(109, 'Joseph Martin', 'Somalia', 'Port Vickiemouth')\n",
      "(135, 'Joann Romero', 'Timor-Leste', 'Port Raymondmouth')\n",
      "(144, 'Robert Reeves', 'Wallis and Futuna', 'Lake Jason')\n",
      "\n",
      "Sample data from Product table:\n",
      "(201, 'Song toy', 'Toys', Decimal('36403.00'), 'www.target.com')\n",
      "(202, 'Enjoy stationer', 'Stationery', Decimal('26248.00'), 'www.bestbuy.com')\n",
      "(203, 'Represent toy', 'Toys', Decimal('47723.00'), 'www.bestbuy.com')\n",
      "(206, 'Law electronic', 'Electronics', Decimal('4177.00'), 'www.flipkart.com')\n",
      "(208, 'Issue electronic', 'Electronics', Decimal('25652.00'), 'www.target.com')\n",
      "\n",
      "Sample data from Orders table:\n",
      "(1, 1731, 8609, 25, '2021-07-26 20:16:14')\n",
      "(2, 5539, 2409, 34, '2021-08-25 03:41:32')\n",
      "(3, 3507, 1145, 28, '2024-06-21 21:39:21')\n",
      "(4, 4826, 8375, 33, '2022-09-17 13:52:11')\n",
      "(5, 6538, 2149, 27, '2022-03-09 07:58:08')\n",
      "\n",
      "Sample data from Payment table:\n",
      "('00028b2b', 3406, 'Wallet', 'N', 'Invalid CVV')\n",
      "('000371fc', 4060, 'Wallet', 'Y', '')\n",
      "('0009553e', 1445, 'Wallet', 'Y', '')\n",
      "('00182d3e', 2906, 'Wallet', 'Y', '')\n",
      "('001f5dec', 4933, 'Wallet', 'N', 'Transaction Timeout')\n"
     ]
    }
   ],
   "source": [
    "import mysql.connector\n",
    "\n",
    "def fetch_sample_data(table_name, connection):\n",
    "    try:\n",
    "        cursor = connection.cursor()\n",
    "        query = f\"SELECT * FROM {table_name} LIMIT 5;\"\n",
    "        cursor.execute(query)\n",
    "        result = cursor.fetchall()\n",
    "        print(f\"\\nSample data from {table_name} table:\")\n",
    "        for row in result:\n",
    "            print(row)\n",
    "    except mysql.connector.Error as err:\n",
    "        print(f\"Error: {err}\")\n",
    "\n",
    "def main():\n",
    "    # Connect to the database\n",
    "    conn = mysql.connector.connect(\n",
    "        host=\"127.0.0.1\",\n",
    "        user=\"root\",\n",
    "        password=\"1234\",\n",
    "        database=\"projectp0\"\n",
    "    )\n",
    "\n",
    "    # Fetch and display sample data from each table\n",
    "    tables = [\"Customer\", \"Product\", \"Orders\", \"Payment\"]\n",
    "    for table in tables:\n",
    "        fetch_sample_data(table, conn)\n",
    "\n",
    "    # Close connection\n",
    "    conn.close()\n",
    "\n",
    "if __name__ == \"__main__\":\n",
    "    main()\n"
   ]
  },
  {
   "cell_type": "code",
   "execution_count": 25,
   "id": "995ee64a-3ecc-4730-9e1e-c45d24f5bcea",
   "metadata": {},
   "outputs": [
    {
     "name": "stdout",
     "output_type": "stream",
     "text": [
      "Database connection closed.\n"
     ]
    }
   ],
   "source": [
    "# Close connection\n",
    "curr.close()\n",
    "conn.close()\n",
    "print(\"Database connection closed.\")\n"
   ]
  },
  {
   "cell_type": "code",
   "execution_count": null,
   "id": "b2f6e86c-5e93-4f94-ad50-7acdd8b5ed02",
   "metadata": {},
   "outputs": [],
   "source": []
  }
 ],
 "metadata": {
  "kernelspec": {
   "display_name": "Python 3 (ipykernel)",
   "language": "python",
   "name": "python3"
  },
  "language_info": {
   "codemirror_mode": {
    "name": "ipython",
    "version": 3
   },
   "file_extension": ".py",
   "mimetype": "text/x-python",
   "name": "python",
   "nbconvert_exporter": "python",
   "pygments_lexer": "ipython3",
   "version": "3.10.1"
  }
 },
 "nbformat": 4,
 "nbformat_minor": 5
}
