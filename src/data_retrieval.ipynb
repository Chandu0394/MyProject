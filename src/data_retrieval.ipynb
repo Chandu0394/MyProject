{
 "cells": [
  {
   "cell_type": "code",
   "execution_count": 1,
   "id": "1edadd26-cd40-4401-b40f-3e38859cc50b",
   "metadata": {},
   "outputs": [
    {
     "name": "stdout",
     "output_type": "stream",
     "text": [
      "\n",
      "Customer Data:\n",
      "(102, 'Kenneth Singh', 'Sweden', 'Davidhaven')\n",
      "(106, 'Mr. James Mendez', 'British Indian Ocean Territory (Chagos Archipelago)', 'Paulmouth')\n",
      "(109, 'Joseph Martin', 'Somalia', 'Port Vickiemouth')\n",
      "(135, 'Joann Romero', 'Timor-Leste', 'Port Raymondmouth')\n",
      "(144, 'Robert Reeves', 'Wallis and Futuna', 'Lake Jason')\n",
      "\n",
      "Product Data:\n",
      "(201, 'Song toy', 'Toys', Decimal('36403.00'), 'www.target.com')\n",
      "(202, 'Enjoy stationer', 'Stationery', Decimal('26248.00'), 'www.bestbuy.com')\n",
      "(203, 'Represent toy', 'Toys', Decimal('47723.00'), 'www.bestbuy.com')\n",
      "(206, 'Law electronic', 'Electronics', Decimal('4177.00'), 'www.flipkart.com')\n",
      "(208, 'Issue electronic', 'Electronics', Decimal('25652.00'), 'www.target.com')\n",
      "\n",
      "Orders Data:\n",
      "(1, 1731, 8609, 25, '2021-07-26 20:16:14')\n",
      "(2, 5539, 2409, 34, '2021-08-25 03:41:32')\n",
      "(3, 3507, 1145, 28, '2024-06-21 21:39:21')\n",
      "(4, 4826, 8375, 33, '2022-09-17 13:52:11')\n",
      "(5, 6538, 2149, 27, '2022-03-09 07:58:08')\n",
      "\n",
      "Payment Data:\n",
      "('00028b2b', 3406, 'Wallet', 'N', 'Invalid CVV')\n",
      "('000371fc', 4060, 'Wallet', 'Y', '')\n",
      "('0009553e', 1445, 'Wallet', 'Y', '')\n",
      "('00182d3e', 2906, 'Wallet', 'Y', '')\n",
      "('001f5dec', 4933, 'Wallet', 'N', 'Transaction Timeout')\n",
      "Database connection closed.\n"
     ]
    }
   ],
   "source": [
    "\n",
    "import mysql.connector\n",
    "\n",
    "def fetch_data(curr, query):\n",
    "    curr.execute(query)\n",
    "    return curr.fetchall()\n",
    "\n",
    "def main():\n",
    "    # Connect to the database\n",
    "    conn = mysql.connector.connect(\n",
    "        host=\"127.0.0.1\",\n",
    "        user=\"root\",\n",
    "        password=\"1234\",\n",
    "        database=\"projectp0\"\n",
    "    )\n",
    "    curr = conn.cursor()\n",
    "\n",
    "    # Define queries to fetch data\n",
    "    queries = {\n",
    "        \"Customer\": \"SELECT * FROM Customer LIMIT 5;\",\n",
    "        \"Product\": \"SELECT * FROM Product LIMIT 5;\",\n",
    "        \"Orders\": \"SELECT * FROM Orders LIMIT 5;\",\n",
    "        \"Payment\": \"SELECT * FROM Payment LIMIT 5;\"\n",
    "    }\n",
    "\n",
    "    # Fetch and display data\n",
    "    for table_name, query in queries.items():\n",
    "        data = fetch_data(curr, query)\n",
    "        print(f\"\\n{table_name} Data:\")\n",
    "        for row in data:\n",
    "            print(row)\n",
    "\n",
    "    # Close connection\n",
    "    curr.close()\n",
    "    conn.close()\n",
    "    print(\"Database connection closed.\")\n",
    "\n",
    "if __name__ == \"__main__\":\n",
    "    main()"
   ]
  },
  {
   "cell_type": "code",
   "execution_count": null,
   "id": "57ef9abd-72ab-4154-b204-93ea128c3fb9",
   "metadata": {},
   "outputs": [],
   "source": []
  }
 ],
 "metadata": {
  "kernelspec": {
   "display_name": "Python 3 (ipykernel)",
   "language": "python",
   "name": "python3"
  },
  "language_info": {
   "codemirror_mode": {
    "name": "ipython",
    "version": 3
   },
   "file_extension": ".py",
   "mimetype": "text/x-python",
   "name": "python",
   "nbconvert_exporter": "python",
   "pygments_lexer": "ipython3",
   "version": "3.10.1"
  }
 },
 "nbformat": 4,
 "nbformat_minor": 5
}
